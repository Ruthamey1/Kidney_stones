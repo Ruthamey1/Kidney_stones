{
 "cells": [
  {
   "cell_type": "code",
   "execution_count": 1,
   "id": "c46baacd",
   "metadata": {
    "_cell_guid": "b1076dfc-b9ad-4769-8c92-a6c4dae69d19",
    "_uuid": "8f2839f25d086af736a60e9eeb907d3b93b6e0e5",
    "execution": {
     "iopub.execute_input": "2023-06-09T19:12:36.967786Z",
     "iopub.status.busy": "2023-06-09T19:12:36.967175Z",
     "iopub.status.idle": "2023-06-09T19:12:36.985916Z",
     "shell.execute_reply": "2023-06-09T19:12:36.984084Z"
    },
    "papermill": {
     "duration": 0.034835,
     "end_time": "2023-06-09T19:12:36.988550",
     "exception": false,
     "start_time": "2023-06-09T19:12:36.953715",
     "status": "completed"
    },
    "tags": []
   },
   "outputs": [
    {
     "name": "stdout",
     "output_type": "stream",
     "text": [
      "/kaggle/input/playground-series-s3e12/sample_submission.csv\n",
      "/kaggle/input/playground-series-s3e12/train.csv\n",
      "/kaggle/input/playground-series-s3e12/test.csv\n"
     ]
    }
   ],
   "source": [
    "# This Python 3 environment comes with many helpful analytics libraries installed\n",
    "# It is defined by the kaggle/python Docker image: https://github.com/kaggle/docker-python\n",
    "# For example, here's several helpful packages to load\n",
    "\n",
    "import numpy as np # linear algebra\n",
    "import pandas as pd # data processing, CSV file I/O (e.g. pd.read_csv)\n",
    "\n",
    "# Input data files are available in the read-only \"../input/\" directory\n",
    "# For example, running this (by clicking run or pressing Shift+Enter) will list all files under the input directory\n",
    "\n",
    "import os\n",
    "for dirname, _, filenames in os.walk('/kaggle/input'):\n",
    "    for filename in filenames:\n",
    "        print(os.path.join(dirname, filename))\n",
    "\n",
    "# You can write up to 20GB to the current directory (/kaggle/working/) that gets preserved as output when you create a version using \"Save & Run All\" \n",
    "# You can also write temporary files to /kaggle/temp/, but they won't be saved outside of the current session"
   ]
  },
  {
   "cell_type": "code",
   "execution_count": 2,
   "id": "72061db7",
   "metadata": {
    "execution": {
     "iopub.execute_input": "2023-06-09T19:12:37.016889Z",
     "iopub.status.busy": "2023-06-09T19:12:37.016409Z",
     "iopub.status.idle": "2023-06-09T19:12:37.077176Z",
     "shell.execute_reply": "2023-06-09T19:12:37.075395Z"
    },
    "papermill": {
     "duration": 0.081049,
     "end_time": "2023-06-09T19:12:37.080575",
     "exception": false,
     "start_time": "2023-06-09T19:12:36.999526",
     "status": "completed"
    },
    "tags": []
   },
   "outputs": [],
   "source": [
    "train = pd.read_csv('/kaggle/input/playground-series-s3e12/train.csv')\n",
    "test = pd.read_csv('/kaggle/input/playground-series-s3e12/test.csv')\n",
    "submission = pd.read_csv('/kaggle/input/playground-series-s3e12/sample_submission.csv')"
   ]
  },
  {
   "cell_type": "code",
   "execution_count": 3,
   "id": "dc97c908",
   "metadata": {
    "execution": {
     "iopub.execute_input": "2023-06-09T19:12:37.103674Z",
     "iopub.status.busy": "2023-06-09T19:12:37.102589Z",
     "iopub.status.idle": "2023-06-09T19:12:37.111781Z",
     "shell.execute_reply": "2023-06-09T19:12:37.110457Z"
    },
    "papermill": {
     "duration": 0.023396,
     "end_time": "2023-06-09T19:12:37.114335",
     "exception": false,
     "start_time": "2023-06-09T19:12:37.090939",
     "status": "completed"
    },
    "tags": []
   },
   "outputs": [
    {
     "data": {
      "text/plain": [
       "(276, 2)"
      ]
     },
     "execution_count": 3,
     "metadata": {},
     "output_type": "execute_result"
    }
   ],
   "source": [
    "submission.shape"
   ]
  },
  {
   "cell_type": "code",
   "execution_count": 4,
   "id": "442c5a42",
   "metadata": {
    "execution": {
     "iopub.execute_input": "2023-06-09T19:12:37.139807Z",
     "iopub.status.busy": "2023-06-09T19:12:37.139354Z",
     "iopub.status.idle": "2023-06-09T19:12:37.147745Z",
     "shell.execute_reply": "2023-06-09T19:12:37.146231Z"
    },
    "papermill": {
     "duration": 0.025474,
     "end_time": "2023-06-09T19:12:37.151976",
     "exception": false,
     "start_time": "2023-06-09T19:12:37.126502",
     "status": "completed"
    },
    "tags": []
   },
   "outputs": [
    {
     "data": {
      "text/plain": [
       "(414, 8)"
      ]
     },
     "execution_count": 4,
     "metadata": {},
     "output_type": "execute_result"
    }
   ],
   "source": [
    "train.shape"
   ]
  },
  {
   "cell_type": "code",
   "execution_count": 5,
   "id": "6bc745da",
   "metadata": {
    "execution": {
     "iopub.execute_input": "2023-06-09T19:12:37.177911Z",
     "iopub.status.busy": "2023-06-09T19:12:37.176950Z",
     "iopub.status.idle": "2023-06-09T19:12:37.184935Z",
     "shell.execute_reply": "2023-06-09T19:12:37.183541Z"
    },
    "papermill": {
     "duration": 0.027019,
     "end_time": "2023-06-09T19:12:37.189561",
     "exception": false,
     "start_time": "2023-06-09T19:12:37.162542",
     "status": "completed"
    },
    "tags": []
   },
   "outputs": [
    {
     "data": {
      "text/plain": [
       "(276, 7)"
      ]
     },
     "execution_count": 5,
     "metadata": {},
     "output_type": "execute_result"
    }
   ],
   "source": [
    "test.shape"
   ]
  },
  {
   "cell_type": "code",
   "execution_count": 6,
   "id": "e7eecb05",
   "metadata": {
    "execution": {
     "iopub.execute_input": "2023-06-09T19:12:37.215939Z",
     "iopub.status.busy": "2023-06-09T19:12:37.215507Z",
     "iopub.status.idle": "2023-06-09T19:12:37.254681Z",
     "shell.execute_reply": "2023-06-09T19:12:37.253432Z"
    },
    "papermill": {
     "duration": 0.056014,
     "end_time": "2023-06-09T19:12:37.257496",
     "exception": false,
     "start_time": "2023-06-09T19:12:37.201482",
     "status": "completed"
    },
    "tags": []
   },
   "outputs": [
    {
     "data": {
      "text/html": [
       "<div>\n",
       "<style scoped>\n",
       "    .dataframe tbody tr th:only-of-type {\n",
       "        vertical-align: middle;\n",
       "    }\n",
       "\n",
       "    .dataframe tbody tr th {\n",
       "        vertical-align: top;\n",
       "    }\n",
       "\n",
       "    .dataframe thead th {\n",
       "        text-align: right;\n",
       "    }\n",
       "</style>\n",
       "<table border=\"1\" class=\"dataframe\">\n",
       "  <thead>\n",
       "    <tr style=\"text-align: right;\">\n",
       "      <th></th>\n",
       "      <th>id</th>\n",
       "      <th>gravity</th>\n",
       "      <th>ph</th>\n",
       "      <th>osmo</th>\n",
       "      <th>cond</th>\n",
       "      <th>urea</th>\n",
       "      <th>calc</th>\n",
       "      <th>target</th>\n",
       "    </tr>\n",
       "  </thead>\n",
       "  <tbody>\n",
       "    <tr>\n",
       "      <th>0</th>\n",
       "      <td>0</td>\n",
       "      <td>1.013</td>\n",
       "      <td>6.19</td>\n",
       "      <td>443</td>\n",
       "      <td>14.8</td>\n",
       "      <td>124</td>\n",
       "      <td>1.45</td>\n",
       "      <td>0</td>\n",
       "    </tr>\n",
       "    <tr>\n",
       "      <th>1</th>\n",
       "      <td>1</td>\n",
       "      <td>1.025</td>\n",
       "      <td>5.40</td>\n",
       "      <td>703</td>\n",
       "      <td>23.6</td>\n",
       "      <td>394</td>\n",
       "      <td>4.18</td>\n",
       "      <td>0</td>\n",
       "    </tr>\n",
       "    <tr>\n",
       "      <th>2</th>\n",
       "      <td>2</td>\n",
       "      <td>1.009</td>\n",
       "      <td>6.13</td>\n",
       "      <td>371</td>\n",
       "      <td>24.5</td>\n",
       "      <td>159</td>\n",
       "      <td>9.04</td>\n",
       "      <td>0</td>\n",
       "    </tr>\n",
       "    <tr>\n",
       "      <th>3</th>\n",
       "      <td>3</td>\n",
       "      <td>1.021</td>\n",
       "      <td>4.91</td>\n",
       "      <td>442</td>\n",
       "      <td>20.8</td>\n",
       "      <td>398</td>\n",
       "      <td>6.63</td>\n",
       "      <td>1</td>\n",
       "    </tr>\n",
       "    <tr>\n",
       "      <th>4</th>\n",
       "      <td>4</td>\n",
       "      <td>1.021</td>\n",
       "      <td>5.53</td>\n",
       "      <td>874</td>\n",
       "      <td>17.8</td>\n",
       "      <td>385</td>\n",
       "      <td>2.21</td>\n",
       "      <td>1</td>\n",
       "    </tr>\n",
       "  </tbody>\n",
       "</table>\n",
       "</div>"
      ],
      "text/plain": [
       "   id  gravity    ph  osmo  cond  urea  calc  target\n",
       "0   0    1.013  6.19   443  14.8   124  1.45       0\n",
       "1   1    1.025  5.40   703  23.6   394  4.18       0\n",
       "2   2    1.009  6.13   371  24.5   159  9.04       0\n",
       "3   3    1.021  4.91   442  20.8   398  6.63       1\n",
       "4   4    1.021  5.53   874  17.8   385  2.21       1"
      ]
     },
     "execution_count": 6,
     "metadata": {},
     "output_type": "execute_result"
    }
   ],
   "source": [
    "train.head()"
   ]
  },
  {
   "cell_type": "code",
   "execution_count": 7,
   "id": "c9b27e4d",
   "metadata": {
    "execution": {
     "iopub.execute_input": "2023-06-09T19:12:37.282633Z",
     "iopub.status.busy": "2023-06-09T19:12:37.282160Z",
     "iopub.status.idle": "2023-06-09T19:12:37.316816Z",
     "shell.execute_reply": "2023-06-09T19:12:37.314711Z"
    },
    "papermill": {
     "duration": 0.050091,
     "end_time": "2023-06-09T19:12:37.319649",
     "exception": false,
     "start_time": "2023-06-09T19:12:37.269558",
     "status": "completed"
    },
    "tags": []
   },
   "outputs": [
    {
     "name": "stdout",
     "output_type": "stream",
     "text": [
      "<class 'pandas.core.frame.DataFrame'>\n",
      "RangeIndex: 414 entries, 0 to 413\n",
      "Data columns (total 8 columns):\n",
      " #   Column   Non-Null Count  Dtype  \n",
      "---  ------   --------------  -----  \n",
      " 0   id       414 non-null    int64  \n",
      " 1   gravity  414 non-null    float64\n",
      " 2   ph       414 non-null    float64\n",
      " 3   osmo     414 non-null    int64  \n",
      " 4   cond     414 non-null    float64\n",
      " 5   urea     414 non-null    int64  \n",
      " 6   calc     414 non-null    float64\n",
      " 7   target   414 non-null    int64  \n",
      "dtypes: float64(4), int64(4)\n",
      "memory usage: 26.0 KB\n"
     ]
    }
   ],
   "source": [
    "train.info()"
   ]
  },
  {
   "cell_type": "markdown",
   "id": "5198c6b3",
   "metadata": {
    "papermill": {
     "duration": 0.010581,
     "end_time": "2023-06-09T19:12:37.341782",
     "exception": false,
     "start_time": "2023-06-09T19:12:37.331201",
     "status": "completed"
    },
    "tags": []
   },
   "source": [
    "Our life is made easier by all the features having the same amount of entries, however we can see they are all at a very different scale"
   ]
  },
  {
   "cell_type": "code",
   "execution_count": 8,
   "id": "4516b38d",
   "metadata": {
    "execution": {
     "iopub.execute_input": "2023-06-09T19:12:37.367292Z",
     "iopub.status.busy": "2023-06-09T19:12:37.366810Z",
     "iopub.status.idle": "2023-06-09T19:12:37.375813Z",
     "shell.execute_reply": "2023-06-09T19:12:37.374275Z"
    },
    "papermill": {
     "duration": 0.025745,
     "end_time": "2023-06-09T19:12:37.378448",
     "exception": false,
     "start_time": "2023-06-09T19:12:37.352703",
     "status": "completed"
    },
    "tags": []
   },
   "outputs": [],
   "source": [
    "X = train.drop('target', axis=1)\n",
    "y = train['target'].copy()"
   ]
  },
  {
   "cell_type": "code",
   "execution_count": 9,
   "id": "c5e6fc0c",
   "metadata": {
    "execution": {
     "iopub.execute_input": "2023-06-09T19:12:37.404828Z",
     "iopub.status.busy": "2023-06-09T19:12:37.404404Z",
     "iopub.status.idle": "2023-06-09T19:12:39.190724Z",
     "shell.execute_reply": "2023-06-09T19:12:39.189617Z"
    },
    "papermill": {
     "duration": 1.803023,
     "end_time": "2023-06-09T19:12:39.193917",
     "exception": false,
     "start_time": "2023-06-09T19:12:37.390894",
     "status": "completed"
    },
    "tags": []
   },
   "outputs": [],
   "source": [
    "from sklearn.model_selection import train_test_split\n",
    "X_train, X_val, y_train, y_val = train_test_split(X,y, test_size=0.2)"
   ]
  },
  {
   "cell_type": "code",
   "execution_count": 10,
   "id": "6a13b6e7",
   "metadata": {
    "execution": {
     "iopub.execute_input": "2023-06-09T19:12:39.220534Z",
     "iopub.status.busy": "2023-06-09T19:12:39.219734Z",
     "iopub.status.idle": "2023-06-09T19:12:39.225724Z",
     "shell.execute_reply": "2023-06-09T19:12:39.224408Z"
    },
    "papermill": {
     "duration": 0.022763,
     "end_time": "2023-06-09T19:12:39.228627",
     "exception": false,
     "start_time": "2023-06-09T19:12:39.205864",
     "status": "completed"
    },
    "tags": []
   },
   "outputs": [],
   "source": [
    "from sklearn.preprocessing import StandardScaler"
   ]
  },
  {
   "cell_type": "code",
   "execution_count": 11,
   "id": "751cd04f",
   "metadata": {
    "execution": {
     "iopub.execute_input": "2023-06-09T19:12:39.253955Z",
     "iopub.status.busy": "2023-06-09T19:12:39.253232Z",
     "iopub.status.idle": "2023-06-09T19:12:39.276533Z",
     "shell.execute_reply": "2023-06-09T19:12:39.275230Z"
    },
    "papermill": {
     "duration": 0.040056,
     "end_time": "2023-06-09T19:12:39.279768",
     "exception": false,
     "start_time": "2023-06-09T19:12:39.239712",
     "status": "completed"
    },
    "tags": []
   },
   "outputs": [],
   "source": [
    "scaler = StandardScaler()\n",
    "X_scaled =  scaler.fit_transform(X)\n",
    "X_train_scaled = scaler.fit_transform(X_train)\n",
    "X_val_scaled = scaler.transform(X_val)\n",
    "test_scaled = scaler.transform(test)"
   ]
  },
  {
   "cell_type": "code",
   "execution_count": 12,
   "id": "0daeb283",
   "metadata": {
    "execution": {
     "iopub.execute_input": "2023-06-09T19:12:39.305328Z",
     "iopub.status.busy": "2023-06-09T19:12:39.304049Z",
     "iopub.status.idle": "2023-06-09T19:12:39.314088Z",
     "shell.execute_reply": "2023-06-09T19:12:39.312957Z"
    },
    "papermill": {
     "duration": 0.025981,
     "end_time": "2023-06-09T19:12:39.317313",
     "exception": false,
     "start_time": "2023-06-09T19:12:39.291332",
     "status": "completed"
    },
    "tags": []
   },
   "outputs": [
    {
     "data": {
      "text/plain": [
       "(331, 7)"
      ]
     },
     "execution_count": 12,
     "metadata": {},
     "output_type": "execute_result"
    }
   ],
   "source": [
    "X_train_scaled.shape"
   ]
  },
  {
   "cell_type": "code",
   "execution_count": 13,
   "id": "5f8dbb51",
   "metadata": {
    "execution": {
     "iopub.execute_input": "2023-06-09T19:12:39.344476Z",
     "iopub.status.busy": "2023-06-09T19:12:39.343931Z",
     "iopub.status.idle": "2023-06-09T19:12:39.480758Z",
     "shell.execute_reply": "2023-06-09T19:12:39.479480Z"
    },
    "papermill": {
     "duration": 0.15437,
     "end_time": "2023-06-09T19:12:39.483958",
     "exception": false,
     "start_time": "2023-06-09T19:12:39.329588",
     "status": "completed"
    },
    "tags": []
   },
   "outputs": [],
   "source": [
    "from sklearn.svm import LinearSVC"
   ]
  },
  {
   "cell_type": "code",
   "execution_count": 14,
   "id": "89510093",
   "metadata": {
    "execution": {
     "iopub.execute_input": "2023-06-09T19:12:39.508476Z",
     "iopub.status.busy": "2023-06-09T19:12:39.507982Z",
     "iopub.status.idle": "2023-06-09T19:12:39.514916Z",
     "shell.execute_reply": "2023-06-09T19:12:39.513595Z"
    },
    "papermill": {
     "duration": 0.02252,
     "end_time": "2023-06-09T19:12:39.517661",
     "exception": false,
     "start_time": "2023-06-09T19:12:39.495141",
     "status": "completed"
    },
    "tags": []
   },
   "outputs": [],
   "source": [
    "lin_svc = LinearSVC(loss='hinge', C=1)"
   ]
  },
  {
   "cell_type": "code",
   "execution_count": 15,
   "id": "f5adf0b9",
   "metadata": {
    "execution": {
     "iopub.execute_input": "2023-06-09T19:12:39.543569Z",
     "iopub.status.busy": "2023-06-09T19:12:39.543121Z",
     "iopub.status.idle": "2023-06-09T19:12:39.567204Z",
     "shell.execute_reply": "2023-06-09T19:12:39.565903Z"
    },
    "papermill": {
     "duration": 0.040548,
     "end_time": "2023-06-09T19:12:39.570287",
     "exception": false,
     "start_time": "2023-06-09T19:12:39.529739",
     "status": "completed"
    },
    "tags": []
   },
   "outputs": [
    {
     "name": "stderr",
     "output_type": "stream",
     "text": [
      "/opt/conda/lib/python3.10/site-packages/sklearn/svm/_base.py:1244: ConvergenceWarning: Liblinear failed to converge, increase the number of iterations.\n",
      "  warnings.warn(\n"
     ]
    },
    {
     "data": {
      "text/html": [
       "<style>#sk-container-id-1 {color: black;background-color: white;}#sk-container-id-1 pre{padding: 0;}#sk-container-id-1 div.sk-toggleable {background-color: white;}#sk-container-id-1 label.sk-toggleable__label {cursor: pointer;display: block;width: 100%;margin-bottom: 0;padding: 0.3em;box-sizing: border-box;text-align: center;}#sk-container-id-1 label.sk-toggleable__label-arrow:before {content: \"▸\";float: left;margin-right: 0.25em;color: #696969;}#sk-container-id-1 label.sk-toggleable__label-arrow:hover:before {color: black;}#sk-container-id-1 div.sk-estimator:hover label.sk-toggleable__label-arrow:before {color: black;}#sk-container-id-1 div.sk-toggleable__content {max-height: 0;max-width: 0;overflow: hidden;text-align: left;background-color: #f0f8ff;}#sk-container-id-1 div.sk-toggleable__content pre {margin: 0.2em;color: black;border-radius: 0.25em;background-color: #f0f8ff;}#sk-container-id-1 input.sk-toggleable__control:checked~div.sk-toggleable__content {max-height: 200px;max-width: 100%;overflow: auto;}#sk-container-id-1 input.sk-toggleable__control:checked~label.sk-toggleable__label-arrow:before {content: \"▾\";}#sk-container-id-1 div.sk-estimator input.sk-toggleable__control:checked~label.sk-toggleable__label {background-color: #d4ebff;}#sk-container-id-1 div.sk-label input.sk-toggleable__control:checked~label.sk-toggleable__label {background-color: #d4ebff;}#sk-container-id-1 input.sk-hidden--visually {border: 0;clip: rect(1px 1px 1px 1px);clip: rect(1px, 1px, 1px, 1px);height: 1px;margin: -1px;overflow: hidden;padding: 0;position: absolute;width: 1px;}#sk-container-id-1 div.sk-estimator {font-family: monospace;background-color: #f0f8ff;border: 1px dotted black;border-radius: 0.25em;box-sizing: border-box;margin-bottom: 0.5em;}#sk-container-id-1 div.sk-estimator:hover {background-color: #d4ebff;}#sk-container-id-1 div.sk-parallel-item::after {content: \"\";width: 100%;border-bottom: 1px solid gray;flex-grow: 1;}#sk-container-id-1 div.sk-label:hover label.sk-toggleable__label {background-color: #d4ebff;}#sk-container-id-1 div.sk-serial::before {content: \"\";position: absolute;border-left: 1px solid gray;box-sizing: border-box;top: 0;bottom: 0;left: 50%;z-index: 0;}#sk-container-id-1 div.sk-serial {display: flex;flex-direction: column;align-items: center;background-color: white;padding-right: 0.2em;padding-left: 0.2em;position: relative;}#sk-container-id-1 div.sk-item {position: relative;z-index: 1;}#sk-container-id-1 div.sk-parallel {display: flex;align-items: stretch;justify-content: center;background-color: white;position: relative;}#sk-container-id-1 div.sk-item::before, #sk-container-id-1 div.sk-parallel-item::before {content: \"\";position: absolute;border-left: 1px solid gray;box-sizing: border-box;top: 0;bottom: 0;left: 50%;z-index: -1;}#sk-container-id-1 div.sk-parallel-item {display: flex;flex-direction: column;z-index: 1;position: relative;background-color: white;}#sk-container-id-1 div.sk-parallel-item:first-child::after {align-self: flex-end;width: 50%;}#sk-container-id-1 div.sk-parallel-item:last-child::after {align-self: flex-start;width: 50%;}#sk-container-id-1 div.sk-parallel-item:only-child::after {width: 0;}#sk-container-id-1 div.sk-dashed-wrapped {border: 1px dashed gray;margin: 0 0.4em 0.5em 0.4em;box-sizing: border-box;padding-bottom: 0.4em;background-color: white;}#sk-container-id-1 div.sk-label label {font-family: monospace;font-weight: bold;display: inline-block;line-height: 1.2em;}#sk-container-id-1 div.sk-label-container {text-align: center;}#sk-container-id-1 div.sk-container {/* jupyter's `normalize.less` sets `[hidden] { display: none; }` but bootstrap.min.css set `[hidden] { display: none !important; }` so we also need the `!important` here to be able to override the default hidden behavior on the sphinx rendered scikit-learn.org. See: https://github.com/scikit-learn/scikit-learn/issues/21755 */display: inline-block !important;position: relative;}#sk-container-id-1 div.sk-text-repr-fallback {display: none;}</style><div id=\"sk-container-id-1\" class=\"sk-top-container\"><div class=\"sk-text-repr-fallback\"><pre>LinearSVC(C=1, loss=&#x27;hinge&#x27;)</pre><b>In a Jupyter environment, please rerun this cell to show the HTML representation or trust the notebook. <br />On GitHub, the HTML representation is unable to render, please try loading this page with nbviewer.org.</b></div><div class=\"sk-container\" hidden><div class=\"sk-item\"><div class=\"sk-estimator sk-toggleable\"><input class=\"sk-toggleable__control sk-hidden--visually\" id=\"sk-estimator-id-1\" type=\"checkbox\" checked><label for=\"sk-estimator-id-1\" class=\"sk-toggleable__label sk-toggleable__label-arrow\">LinearSVC</label><div class=\"sk-toggleable__content\"><pre>LinearSVC(C=1, loss=&#x27;hinge&#x27;)</pre></div></div></div></div></div>"
      ],
      "text/plain": [
       "LinearSVC(C=1, loss='hinge')"
      ]
     },
     "execution_count": 15,
     "metadata": {},
     "output_type": "execute_result"
    }
   ],
   "source": [
    "lin_svc.fit(X_train_scaled, y_train)"
   ]
  },
  {
   "cell_type": "code",
   "execution_count": 16,
   "id": "90daa9fd",
   "metadata": {
    "execution": {
     "iopub.execute_input": "2023-06-09T19:12:39.595694Z",
     "iopub.status.busy": "2023-06-09T19:12:39.595242Z",
     "iopub.status.idle": "2023-06-09T19:12:39.605079Z",
     "shell.execute_reply": "2023-06-09T19:12:39.604161Z"
    },
    "papermill": {
     "duration": 0.025796,
     "end_time": "2023-06-09T19:12:39.607665",
     "exception": false,
     "start_time": "2023-06-09T19:12:39.581869",
     "status": "completed"
    },
    "tags": []
   },
   "outputs": [
    {
     "data": {
      "text/plain": [
       "0.7401812688821753"
      ]
     },
     "execution_count": 16,
     "metadata": {},
     "output_type": "execute_result"
    }
   ],
   "source": [
    "from sklearn.metrics import accuracy_score\n",
    "\n",
    "y_pred = lin_svc.predict(X_train_scaled)\n",
    "accuracy_score(y_train, y_pred)"
   ]
  },
  {
   "cell_type": "code",
   "execution_count": 17,
   "id": "d28a0f3c",
   "metadata": {
    "execution": {
     "iopub.execute_input": "2023-06-09T19:12:39.635096Z",
     "iopub.status.busy": "2023-06-09T19:12:39.633929Z",
     "iopub.status.idle": "2023-06-09T19:12:39.638991Z",
     "shell.execute_reply": "2023-06-09T19:12:39.638033Z"
    },
    "papermill": {
     "duration": 0.021889,
     "end_time": "2023-06-09T19:12:39.641500",
     "exception": false,
     "start_time": "2023-06-09T19:12:39.619611",
     "status": "completed"
    },
    "tags": []
   },
   "outputs": [],
   "source": [
    "from sklearn.svm import SVC"
   ]
  },
  {
   "cell_type": "code",
   "execution_count": 18,
   "id": "c68f0352",
   "metadata": {
    "execution": {
     "iopub.execute_input": "2023-06-09T19:12:39.671677Z",
     "iopub.status.busy": "2023-06-09T19:12:39.670971Z",
     "iopub.status.idle": "2023-06-09T19:12:39.676816Z",
     "shell.execute_reply": "2023-06-09T19:12:39.675554Z"
    },
    "papermill": {
     "duration": 0.022788,
     "end_time": "2023-06-09T19:12:39.679316",
     "exception": false,
     "start_time": "2023-06-09T19:12:39.656528",
     "status": "completed"
    },
    "tags": []
   },
   "outputs": [],
   "source": [
    "svc = SVC(kernel='rbf', gamma=5, C=0.001)"
   ]
  },
  {
   "cell_type": "code",
   "execution_count": 19,
   "id": "613d9c0c",
   "metadata": {
    "execution": {
     "iopub.execute_input": "2023-06-09T19:12:39.706270Z",
     "iopub.status.busy": "2023-06-09T19:12:39.705752Z",
     "iopub.status.idle": "2023-06-09T19:12:39.722461Z",
     "shell.execute_reply": "2023-06-09T19:12:39.721286Z"
    },
    "papermill": {
     "duration": 0.033168,
     "end_time": "2023-06-09T19:12:39.725202",
     "exception": false,
     "start_time": "2023-06-09T19:12:39.692034",
     "status": "completed"
    },
    "tags": []
   },
   "outputs": [
    {
     "data": {
      "text/html": [
       "<style>#sk-container-id-2 {color: black;background-color: white;}#sk-container-id-2 pre{padding: 0;}#sk-container-id-2 div.sk-toggleable {background-color: white;}#sk-container-id-2 label.sk-toggleable__label {cursor: pointer;display: block;width: 100%;margin-bottom: 0;padding: 0.3em;box-sizing: border-box;text-align: center;}#sk-container-id-2 label.sk-toggleable__label-arrow:before {content: \"▸\";float: left;margin-right: 0.25em;color: #696969;}#sk-container-id-2 label.sk-toggleable__label-arrow:hover:before {color: black;}#sk-container-id-2 div.sk-estimator:hover label.sk-toggleable__label-arrow:before {color: black;}#sk-container-id-2 div.sk-toggleable__content {max-height: 0;max-width: 0;overflow: hidden;text-align: left;background-color: #f0f8ff;}#sk-container-id-2 div.sk-toggleable__content pre {margin: 0.2em;color: black;border-radius: 0.25em;background-color: #f0f8ff;}#sk-container-id-2 input.sk-toggleable__control:checked~div.sk-toggleable__content {max-height: 200px;max-width: 100%;overflow: auto;}#sk-container-id-2 input.sk-toggleable__control:checked~label.sk-toggleable__label-arrow:before {content: \"▾\";}#sk-container-id-2 div.sk-estimator input.sk-toggleable__control:checked~label.sk-toggleable__label {background-color: #d4ebff;}#sk-container-id-2 div.sk-label input.sk-toggleable__control:checked~label.sk-toggleable__label {background-color: #d4ebff;}#sk-container-id-2 input.sk-hidden--visually {border: 0;clip: rect(1px 1px 1px 1px);clip: rect(1px, 1px, 1px, 1px);height: 1px;margin: -1px;overflow: hidden;padding: 0;position: absolute;width: 1px;}#sk-container-id-2 div.sk-estimator {font-family: monospace;background-color: #f0f8ff;border: 1px dotted black;border-radius: 0.25em;box-sizing: border-box;margin-bottom: 0.5em;}#sk-container-id-2 div.sk-estimator:hover {background-color: #d4ebff;}#sk-container-id-2 div.sk-parallel-item::after {content: \"\";width: 100%;border-bottom: 1px solid gray;flex-grow: 1;}#sk-container-id-2 div.sk-label:hover label.sk-toggleable__label {background-color: #d4ebff;}#sk-container-id-2 div.sk-serial::before {content: \"\";position: absolute;border-left: 1px solid gray;box-sizing: border-box;top: 0;bottom: 0;left: 50%;z-index: 0;}#sk-container-id-2 div.sk-serial {display: flex;flex-direction: column;align-items: center;background-color: white;padding-right: 0.2em;padding-left: 0.2em;position: relative;}#sk-container-id-2 div.sk-item {position: relative;z-index: 1;}#sk-container-id-2 div.sk-parallel {display: flex;align-items: stretch;justify-content: center;background-color: white;position: relative;}#sk-container-id-2 div.sk-item::before, #sk-container-id-2 div.sk-parallel-item::before {content: \"\";position: absolute;border-left: 1px solid gray;box-sizing: border-box;top: 0;bottom: 0;left: 50%;z-index: -1;}#sk-container-id-2 div.sk-parallel-item {display: flex;flex-direction: column;z-index: 1;position: relative;background-color: white;}#sk-container-id-2 div.sk-parallel-item:first-child::after {align-self: flex-end;width: 50%;}#sk-container-id-2 div.sk-parallel-item:last-child::after {align-self: flex-start;width: 50%;}#sk-container-id-2 div.sk-parallel-item:only-child::after {width: 0;}#sk-container-id-2 div.sk-dashed-wrapped {border: 1px dashed gray;margin: 0 0.4em 0.5em 0.4em;box-sizing: border-box;padding-bottom: 0.4em;background-color: white;}#sk-container-id-2 div.sk-label label {font-family: monospace;font-weight: bold;display: inline-block;line-height: 1.2em;}#sk-container-id-2 div.sk-label-container {text-align: center;}#sk-container-id-2 div.sk-container {/* jupyter's `normalize.less` sets `[hidden] { display: none; }` but bootstrap.min.css set `[hidden] { display: none !important; }` so we also need the `!important` here to be able to override the default hidden behavior on the sphinx rendered scikit-learn.org. See: https://github.com/scikit-learn/scikit-learn/issues/21755 */display: inline-block !important;position: relative;}#sk-container-id-2 div.sk-text-repr-fallback {display: none;}</style><div id=\"sk-container-id-2\" class=\"sk-top-container\"><div class=\"sk-text-repr-fallback\"><pre>SVC(C=0.001, gamma=5)</pre><b>In a Jupyter environment, please rerun this cell to show the HTML representation or trust the notebook. <br />On GitHub, the HTML representation is unable to render, please try loading this page with nbviewer.org.</b></div><div class=\"sk-container\" hidden><div class=\"sk-item\"><div class=\"sk-estimator sk-toggleable\"><input class=\"sk-toggleable__control sk-hidden--visually\" id=\"sk-estimator-id-2\" type=\"checkbox\" checked><label for=\"sk-estimator-id-2\" class=\"sk-toggleable__label sk-toggleable__label-arrow\">SVC</label><div class=\"sk-toggleable__content\"><pre>SVC(C=0.001, gamma=5)</pre></div></div></div></div></div>"
      ],
      "text/plain": [
       "SVC(C=0.001, gamma=5)"
      ]
     },
     "execution_count": 19,
     "metadata": {},
     "output_type": "execute_result"
    }
   ],
   "source": [
    "svc.fit(X_train_scaled, y_train)"
   ]
  },
  {
   "cell_type": "code",
   "execution_count": 20,
   "id": "c8f40aa0",
   "metadata": {
    "execution": {
     "iopub.execute_input": "2023-06-09T19:12:39.754880Z",
     "iopub.status.busy": "2023-06-09T19:12:39.754131Z",
     "iopub.status.idle": "2023-06-09T19:12:39.771031Z",
     "shell.execute_reply": "2023-06-09T19:12:39.769159Z"
    },
    "papermill": {
     "duration": 0.036731,
     "end_time": "2023-06-09T19:12:39.774088",
     "exception": false,
     "start_time": "2023-06-09T19:12:39.737357",
     "status": "completed"
    },
    "tags": []
   },
   "outputs": [
    {
     "data": {
      "text/plain": [
       "0.5589123867069486"
      ]
     },
     "execution_count": 20,
     "metadata": {},
     "output_type": "execute_result"
    }
   ],
   "source": [
    "y_pred = svc.predict(X_train_scaled)\n",
    "accuracy_score(y_train, y_pred)"
   ]
  },
  {
   "cell_type": "code",
   "execution_count": 21,
   "id": "7d900f81",
   "metadata": {
    "execution": {
     "iopub.execute_input": "2023-06-09T19:12:39.802717Z",
     "iopub.status.busy": "2023-06-09T19:12:39.802077Z",
     "iopub.status.idle": "2023-06-09T19:12:40.033866Z",
     "shell.execute_reply": "2023-06-09T19:12:40.032481Z"
    },
    "papermill": {
     "duration": 0.249257,
     "end_time": "2023-06-09T19:12:40.036607",
     "exception": false,
     "start_time": "2023-06-09T19:12:39.787350",
     "status": "completed"
    },
    "tags": []
   },
   "outputs": [
    {
     "name": "stdout",
     "output_type": "stream",
     "text": [
      "Fitting 3 folds for each of 10 candidates, totalling 30 fits\n",
      "[CV] END ....C=8.886683066326128, gamma=0.016469970172154763; total time=   0.0s\n",
      "[CV] END ....C=8.886683066326128, gamma=0.016469970172154763; total time=   0.0s\n",
      "[CV] END ....C=8.886683066326128, gamma=0.016469970172154763; total time=   0.0s\n",
      "[CV] END ....C=3.347574506096919, gamma=0.012570890747323484; total time=   0.0s\n",
      "[CV] END ....C=3.347574506096919, gamma=0.012570890747323484; total time=   0.0s\n",
      "[CV] END ....C=3.347574506096919, gamma=0.012570890747323484; total time=   0.0s\n",
      "[CV] END ...C=3.378805283826675, gamma=0.0035162285675212775; total time=   0.0s\n",
      "[CV] END ...C=3.378805283826675, gamma=0.0035162285675212775; total time=   0.0s\n",
      "[CV] END ...C=3.378805283826675, gamma=0.0035162285675212775; total time=   0.0s\n",
      "[CV] END ...C=4.070332350364677, gamma=0.0018017084929360166; total time=   0.0s\n",
      "[CV] END ...C=4.070332350364677, gamma=0.0018017084929360166; total time=   0.0s\n",
      "[CV] END ...C=4.070332350364677, gamma=0.0018017084929360166; total time=   0.0s\n",
      "[CV] END ...C=8.326418356403465, gamma=0.0063099148291951455; total time=   0.0s\n",
      "[CV] END ...C=8.326418356403465, gamma=0.0063099148291951455; total time=   0.0s\n",
      "[CV] END ...C=8.326418356403465, gamma=0.0063099148291951455; total time=   0.0s\n",
      "[CV] END ....C=5.695188985829638, gamma=0.002402466511848626; total time=   0.0s\n",
      "[CV] END ....C=5.695188985829638, gamma=0.002402466511848626; total time=   0.0s\n",
      "[CV] END ....C=5.695188985829638, gamma=0.002402466511848626; total time=   0.0s\n",
      "[CV] END ...C=2.0435669554196347, gamma=0.004260688741839537; total time=   0.0s\n",
      "[CV] END ...C=2.0435669554196347, gamma=0.004260688741839537; total time=   0.0s\n",
      "[CV] END ...C=2.0435669554196347, gamma=0.004260688741839537; total time=   0.0s\n",
      "[CV] END ....C=1.7845608677944194, gamma=0.02796982213897554; total time=   0.0s\n",
      "[CV] END ....C=1.7845608677944194, gamma=0.02796982213897554; total time=   0.0s\n",
      "[CV] END ....C=1.7845608677944194, gamma=0.02796982213897554; total time=   0.0s\n",
      "[CV] END ...C=1.6470466213903292, gamma=0.011576115873605885; total time=   0.0s\n",
      "[CV] END ...C=1.6470466213903292, gamma=0.011576115873605885; total time=   0.0s\n",
      "[CV] END ...C=1.6470466213903292, gamma=0.011576115873605885; total time=   0.0s\n",
      "[CV] END ....C=2.709412895181467, gamma=0.002777831871913047; total time=   0.0s\n",
      "[CV] END ....C=2.709412895181467, gamma=0.002777831871913047; total time=   0.0s\n",
      "[CV] END ....C=2.709412895181467, gamma=0.002777831871913047; total time=   0.0s\n"
     ]
    },
    {
     "data": {
      "text/html": [
       "<style>#sk-container-id-3 {color: black;background-color: white;}#sk-container-id-3 pre{padding: 0;}#sk-container-id-3 div.sk-toggleable {background-color: white;}#sk-container-id-3 label.sk-toggleable__label {cursor: pointer;display: block;width: 100%;margin-bottom: 0;padding: 0.3em;box-sizing: border-box;text-align: center;}#sk-container-id-3 label.sk-toggleable__label-arrow:before {content: \"▸\";float: left;margin-right: 0.25em;color: #696969;}#sk-container-id-3 label.sk-toggleable__label-arrow:hover:before {color: black;}#sk-container-id-3 div.sk-estimator:hover label.sk-toggleable__label-arrow:before {color: black;}#sk-container-id-3 div.sk-toggleable__content {max-height: 0;max-width: 0;overflow: hidden;text-align: left;background-color: #f0f8ff;}#sk-container-id-3 div.sk-toggleable__content pre {margin: 0.2em;color: black;border-radius: 0.25em;background-color: #f0f8ff;}#sk-container-id-3 input.sk-toggleable__control:checked~div.sk-toggleable__content {max-height: 200px;max-width: 100%;overflow: auto;}#sk-container-id-3 input.sk-toggleable__control:checked~label.sk-toggleable__label-arrow:before {content: \"▾\";}#sk-container-id-3 div.sk-estimator input.sk-toggleable__control:checked~label.sk-toggleable__label {background-color: #d4ebff;}#sk-container-id-3 div.sk-label input.sk-toggleable__control:checked~label.sk-toggleable__label {background-color: #d4ebff;}#sk-container-id-3 input.sk-hidden--visually {border: 0;clip: rect(1px 1px 1px 1px);clip: rect(1px, 1px, 1px, 1px);height: 1px;margin: -1px;overflow: hidden;padding: 0;position: absolute;width: 1px;}#sk-container-id-3 div.sk-estimator {font-family: monospace;background-color: #f0f8ff;border: 1px dotted black;border-radius: 0.25em;box-sizing: border-box;margin-bottom: 0.5em;}#sk-container-id-3 div.sk-estimator:hover {background-color: #d4ebff;}#sk-container-id-3 div.sk-parallel-item::after {content: \"\";width: 100%;border-bottom: 1px solid gray;flex-grow: 1;}#sk-container-id-3 div.sk-label:hover label.sk-toggleable__label {background-color: #d4ebff;}#sk-container-id-3 div.sk-serial::before {content: \"\";position: absolute;border-left: 1px solid gray;box-sizing: border-box;top: 0;bottom: 0;left: 50%;z-index: 0;}#sk-container-id-3 div.sk-serial {display: flex;flex-direction: column;align-items: center;background-color: white;padding-right: 0.2em;padding-left: 0.2em;position: relative;}#sk-container-id-3 div.sk-item {position: relative;z-index: 1;}#sk-container-id-3 div.sk-parallel {display: flex;align-items: stretch;justify-content: center;background-color: white;position: relative;}#sk-container-id-3 div.sk-item::before, #sk-container-id-3 div.sk-parallel-item::before {content: \"\";position: absolute;border-left: 1px solid gray;box-sizing: border-box;top: 0;bottom: 0;left: 50%;z-index: -1;}#sk-container-id-3 div.sk-parallel-item {display: flex;flex-direction: column;z-index: 1;position: relative;background-color: white;}#sk-container-id-3 div.sk-parallel-item:first-child::after {align-self: flex-end;width: 50%;}#sk-container-id-3 div.sk-parallel-item:last-child::after {align-self: flex-start;width: 50%;}#sk-container-id-3 div.sk-parallel-item:only-child::after {width: 0;}#sk-container-id-3 div.sk-dashed-wrapped {border: 1px dashed gray;margin: 0 0.4em 0.5em 0.4em;box-sizing: border-box;padding-bottom: 0.4em;background-color: white;}#sk-container-id-3 div.sk-label label {font-family: monospace;font-weight: bold;display: inline-block;line-height: 1.2em;}#sk-container-id-3 div.sk-label-container {text-align: center;}#sk-container-id-3 div.sk-container {/* jupyter's `normalize.less` sets `[hidden] { display: none; }` but bootstrap.min.css set `[hidden] { display: none !important; }` so we also need the `!important` here to be able to override the default hidden behavior on the sphinx rendered scikit-learn.org. See: https://github.com/scikit-learn/scikit-learn/issues/21755 */display: inline-block !important;position: relative;}#sk-container-id-3 div.sk-text-repr-fallback {display: none;}</style><div id=\"sk-container-id-3\" class=\"sk-top-container\"><div class=\"sk-text-repr-fallback\"><pre>RandomizedSearchCV(cv=3, estimator=SVC(C=0.001, gamma=5),\n",
       "                   param_distributions={&#x27;C&#x27;: &lt;scipy.stats._distn_infrastructure.rv_continuous_frozen object at 0x7e87427a11e0&gt;,\n",
       "                                        &#x27;gamma&#x27;: &lt;scipy.stats._distn_infrastructure.rv_continuous_frozen object at 0x7e87427a0d30&gt;},\n",
       "                   verbose=2)</pre><b>In a Jupyter environment, please rerun this cell to show the HTML representation or trust the notebook. <br />On GitHub, the HTML representation is unable to render, please try loading this page with nbviewer.org.</b></div><div class=\"sk-container\" hidden><div class=\"sk-item sk-dashed-wrapped\"><div class=\"sk-label-container\"><div class=\"sk-label sk-toggleable\"><input class=\"sk-toggleable__control sk-hidden--visually\" id=\"sk-estimator-id-3\" type=\"checkbox\" ><label for=\"sk-estimator-id-3\" class=\"sk-toggleable__label sk-toggleable__label-arrow\">RandomizedSearchCV</label><div class=\"sk-toggleable__content\"><pre>RandomizedSearchCV(cv=3, estimator=SVC(C=0.001, gamma=5),\n",
       "                   param_distributions={&#x27;C&#x27;: &lt;scipy.stats._distn_infrastructure.rv_continuous_frozen object at 0x7e87427a11e0&gt;,\n",
       "                                        &#x27;gamma&#x27;: &lt;scipy.stats._distn_infrastructure.rv_continuous_frozen object at 0x7e87427a0d30&gt;},\n",
       "                   verbose=2)</pre></div></div></div><div class=\"sk-parallel\"><div class=\"sk-parallel-item\"><div class=\"sk-item\"><div class=\"sk-label-container\"><div class=\"sk-label sk-toggleable\"><input class=\"sk-toggleable__control sk-hidden--visually\" id=\"sk-estimator-id-4\" type=\"checkbox\" ><label for=\"sk-estimator-id-4\" class=\"sk-toggleable__label sk-toggleable__label-arrow\">estimator: SVC</label><div class=\"sk-toggleable__content\"><pre>SVC(C=0.001, gamma=5)</pre></div></div></div><div class=\"sk-serial\"><div class=\"sk-item\"><div class=\"sk-estimator sk-toggleable\"><input class=\"sk-toggleable__control sk-hidden--visually\" id=\"sk-estimator-id-5\" type=\"checkbox\" ><label for=\"sk-estimator-id-5\" class=\"sk-toggleable__label sk-toggleable__label-arrow\">SVC</label><div class=\"sk-toggleable__content\"><pre>SVC(C=0.001, gamma=5)</pre></div></div></div></div></div></div></div></div></div></div>"
      ],
      "text/plain": [
       "RandomizedSearchCV(cv=3, estimator=SVC(C=0.001, gamma=5),\n",
       "                   param_distributions={'C': <scipy.stats._distn_infrastructure.rv_continuous_frozen object at 0x7e87427a11e0>,\n",
       "                                        'gamma': <scipy.stats._distn_infrastructure.rv_continuous_frozen object at 0x7e87427a0d30>},\n",
       "                   verbose=2)"
      ]
     },
     "execution_count": 21,
     "metadata": {},
     "output_type": "execute_result"
    }
   ],
   "source": [
    "from sklearn.model_selection import RandomizedSearchCV\n",
    "from scipy.stats import reciprocal, uniform\n",
    "\n",
    "param_distributions = {\"gamma\": reciprocal(0.001, 0.1), \"C\": uniform(1, 10)}\n",
    "rnd_search_cv = RandomizedSearchCV(svc, param_distributions, n_iter=10, verbose=2, cv=3)\n",
    "rnd_search_cv.fit(X_train_scaled[:1000], y_train[:1000])"
   ]
  },
  {
   "cell_type": "code",
   "execution_count": 22,
   "id": "1a6bbf0d",
   "metadata": {
    "execution": {
     "iopub.execute_input": "2023-06-09T19:12:40.065660Z",
     "iopub.status.busy": "2023-06-09T19:12:40.064093Z",
     "iopub.status.idle": "2023-06-09T19:12:40.074808Z",
     "shell.execute_reply": "2023-06-09T19:12:40.073494Z"
    },
    "papermill": {
     "duration": 0.027999,
     "end_time": "2023-06-09T19:12:40.077503",
     "exception": false,
     "start_time": "2023-06-09T19:12:40.049504",
     "status": "completed"
    },
    "tags": []
   },
   "outputs": [
    {
     "data": {
      "text/html": [
       "<style>#sk-container-id-4 {color: black;background-color: white;}#sk-container-id-4 pre{padding: 0;}#sk-container-id-4 div.sk-toggleable {background-color: white;}#sk-container-id-4 label.sk-toggleable__label {cursor: pointer;display: block;width: 100%;margin-bottom: 0;padding: 0.3em;box-sizing: border-box;text-align: center;}#sk-container-id-4 label.sk-toggleable__label-arrow:before {content: \"▸\";float: left;margin-right: 0.25em;color: #696969;}#sk-container-id-4 label.sk-toggleable__label-arrow:hover:before {color: black;}#sk-container-id-4 div.sk-estimator:hover label.sk-toggleable__label-arrow:before {color: black;}#sk-container-id-4 div.sk-toggleable__content {max-height: 0;max-width: 0;overflow: hidden;text-align: left;background-color: #f0f8ff;}#sk-container-id-4 div.sk-toggleable__content pre {margin: 0.2em;color: black;border-radius: 0.25em;background-color: #f0f8ff;}#sk-container-id-4 input.sk-toggleable__control:checked~div.sk-toggleable__content {max-height: 200px;max-width: 100%;overflow: auto;}#sk-container-id-4 input.sk-toggleable__control:checked~label.sk-toggleable__label-arrow:before {content: \"▾\";}#sk-container-id-4 div.sk-estimator input.sk-toggleable__control:checked~label.sk-toggleable__label {background-color: #d4ebff;}#sk-container-id-4 div.sk-label input.sk-toggleable__control:checked~label.sk-toggleable__label {background-color: #d4ebff;}#sk-container-id-4 input.sk-hidden--visually {border: 0;clip: rect(1px 1px 1px 1px);clip: rect(1px, 1px, 1px, 1px);height: 1px;margin: -1px;overflow: hidden;padding: 0;position: absolute;width: 1px;}#sk-container-id-4 div.sk-estimator {font-family: monospace;background-color: #f0f8ff;border: 1px dotted black;border-radius: 0.25em;box-sizing: border-box;margin-bottom: 0.5em;}#sk-container-id-4 div.sk-estimator:hover {background-color: #d4ebff;}#sk-container-id-4 div.sk-parallel-item::after {content: \"\";width: 100%;border-bottom: 1px solid gray;flex-grow: 1;}#sk-container-id-4 div.sk-label:hover label.sk-toggleable__label {background-color: #d4ebff;}#sk-container-id-4 div.sk-serial::before {content: \"\";position: absolute;border-left: 1px solid gray;box-sizing: border-box;top: 0;bottom: 0;left: 50%;z-index: 0;}#sk-container-id-4 div.sk-serial {display: flex;flex-direction: column;align-items: center;background-color: white;padding-right: 0.2em;padding-left: 0.2em;position: relative;}#sk-container-id-4 div.sk-item {position: relative;z-index: 1;}#sk-container-id-4 div.sk-parallel {display: flex;align-items: stretch;justify-content: center;background-color: white;position: relative;}#sk-container-id-4 div.sk-item::before, #sk-container-id-4 div.sk-parallel-item::before {content: \"\";position: absolute;border-left: 1px solid gray;box-sizing: border-box;top: 0;bottom: 0;left: 50%;z-index: -1;}#sk-container-id-4 div.sk-parallel-item {display: flex;flex-direction: column;z-index: 1;position: relative;background-color: white;}#sk-container-id-4 div.sk-parallel-item:first-child::after {align-self: flex-end;width: 50%;}#sk-container-id-4 div.sk-parallel-item:last-child::after {align-self: flex-start;width: 50%;}#sk-container-id-4 div.sk-parallel-item:only-child::after {width: 0;}#sk-container-id-4 div.sk-dashed-wrapped {border: 1px dashed gray;margin: 0 0.4em 0.5em 0.4em;box-sizing: border-box;padding-bottom: 0.4em;background-color: white;}#sk-container-id-4 div.sk-label label {font-family: monospace;font-weight: bold;display: inline-block;line-height: 1.2em;}#sk-container-id-4 div.sk-label-container {text-align: center;}#sk-container-id-4 div.sk-container {/* jupyter's `normalize.less` sets `[hidden] { display: none; }` but bootstrap.min.css set `[hidden] { display: none !important; }` so we also need the `!important` here to be able to override the default hidden behavior on the sphinx rendered scikit-learn.org. See: https://github.com/scikit-learn/scikit-learn/issues/21755 */display: inline-block !important;position: relative;}#sk-container-id-4 div.sk-text-repr-fallback {display: none;}</style><div id=\"sk-container-id-4\" class=\"sk-top-container\"><div class=\"sk-text-repr-fallback\"><pre>SVC(C=3.347574506096919, gamma=0.012570890747323484)</pre><b>In a Jupyter environment, please rerun this cell to show the HTML representation or trust the notebook. <br />On GitHub, the HTML representation is unable to render, please try loading this page with nbviewer.org.</b></div><div class=\"sk-container\" hidden><div class=\"sk-item\"><div class=\"sk-estimator sk-toggleable\"><input class=\"sk-toggleable__control sk-hidden--visually\" id=\"sk-estimator-id-6\" type=\"checkbox\" checked><label for=\"sk-estimator-id-6\" class=\"sk-toggleable__label sk-toggleable__label-arrow\">SVC</label><div class=\"sk-toggleable__content\"><pre>SVC(C=3.347574506096919, gamma=0.012570890747323484)</pre></div></div></div></div></div>"
      ],
      "text/plain": [
       "SVC(C=3.347574506096919, gamma=0.012570890747323484)"
      ]
     },
     "execution_count": 22,
     "metadata": {},
     "output_type": "execute_result"
    }
   ],
   "source": [
    "rnd_search_cv.best_estimator_"
   ]
  },
  {
   "cell_type": "code",
   "execution_count": 23,
   "id": "f2fcc35a",
   "metadata": {
    "execution": {
     "iopub.execute_input": "2023-06-09T19:12:40.106868Z",
     "iopub.status.busy": "2023-06-09T19:12:40.106126Z",
     "iopub.status.idle": "2023-06-09T19:12:40.115638Z",
     "shell.execute_reply": "2023-06-09T19:12:40.114634Z"
    },
    "papermill": {
     "duration": 0.027318,
     "end_time": "2023-06-09T19:12:40.118129",
     "exception": false,
     "start_time": "2023-06-09T19:12:40.090811",
     "status": "completed"
    },
    "tags": []
   },
   "outputs": [
    {
     "data": {
      "text/plain": [
       "0.7463008463008464"
      ]
     },
     "execution_count": 23,
     "metadata": {},
     "output_type": "execute_result"
    }
   ],
   "source": [
    "rnd_search_cv.best_score_"
   ]
  },
  {
   "cell_type": "code",
   "execution_count": 24,
   "id": "882701bd",
   "metadata": {
    "execution": {
     "iopub.execute_input": "2023-06-09T19:12:40.146712Z",
     "iopub.status.busy": "2023-06-09T19:12:40.146286Z",
     "iopub.status.idle": "2023-06-09T19:12:40.160459Z",
     "shell.execute_reply": "2023-06-09T19:12:40.159141Z"
    },
    "papermill": {
     "duration": 0.031758,
     "end_time": "2023-06-09T19:12:40.163275",
     "exception": false,
     "start_time": "2023-06-09T19:12:40.131517",
     "status": "completed"
    },
    "tags": []
   },
   "outputs": [
    {
     "data": {
      "text/html": [
       "<style>#sk-container-id-5 {color: black;background-color: white;}#sk-container-id-5 pre{padding: 0;}#sk-container-id-5 div.sk-toggleable {background-color: white;}#sk-container-id-5 label.sk-toggleable__label {cursor: pointer;display: block;width: 100%;margin-bottom: 0;padding: 0.3em;box-sizing: border-box;text-align: center;}#sk-container-id-5 label.sk-toggleable__label-arrow:before {content: \"▸\";float: left;margin-right: 0.25em;color: #696969;}#sk-container-id-5 label.sk-toggleable__label-arrow:hover:before {color: black;}#sk-container-id-5 div.sk-estimator:hover label.sk-toggleable__label-arrow:before {color: black;}#sk-container-id-5 div.sk-toggleable__content {max-height: 0;max-width: 0;overflow: hidden;text-align: left;background-color: #f0f8ff;}#sk-container-id-5 div.sk-toggleable__content pre {margin: 0.2em;color: black;border-radius: 0.25em;background-color: #f0f8ff;}#sk-container-id-5 input.sk-toggleable__control:checked~div.sk-toggleable__content {max-height: 200px;max-width: 100%;overflow: auto;}#sk-container-id-5 input.sk-toggleable__control:checked~label.sk-toggleable__label-arrow:before {content: \"▾\";}#sk-container-id-5 div.sk-estimator input.sk-toggleable__control:checked~label.sk-toggleable__label {background-color: #d4ebff;}#sk-container-id-5 div.sk-label input.sk-toggleable__control:checked~label.sk-toggleable__label {background-color: #d4ebff;}#sk-container-id-5 input.sk-hidden--visually {border: 0;clip: rect(1px 1px 1px 1px);clip: rect(1px, 1px, 1px, 1px);height: 1px;margin: -1px;overflow: hidden;padding: 0;position: absolute;width: 1px;}#sk-container-id-5 div.sk-estimator {font-family: monospace;background-color: #f0f8ff;border: 1px dotted black;border-radius: 0.25em;box-sizing: border-box;margin-bottom: 0.5em;}#sk-container-id-5 div.sk-estimator:hover {background-color: #d4ebff;}#sk-container-id-5 div.sk-parallel-item::after {content: \"\";width: 100%;border-bottom: 1px solid gray;flex-grow: 1;}#sk-container-id-5 div.sk-label:hover label.sk-toggleable__label {background-color: #d4ebff;}#sk-container-id-5 div.sk-serial::before {content: \"\";position: absolute;border-left: 1px solid gray;box-sizing: border-box;top: 0;bottom: 0;left: 50%;z-index: 0;}#sk-container-id-5 div.sk-serial {display: flex;flex-direction: column;align-items: center;background-color: white;padding-right: 0.2em;padding-left: 0.2em;position: relative;}#sk-container-id-5 div.sk-item {position: relative;z-index: 1;}#sk-container-id-5 div.sk-parallel {display: flex;align-items: stretch;justify-content: center;background-color: white;position: relative;}#sk-container-id-5 div.sk-item::before, #sk-container-id-5 div.sk-parallel-item::before {content: \"\";position: absolute;border-left: 1px solid gray;box-sizing: border-box;top: 0;bottom: 0;left: 50%;z-index: -1;}#sk-container-id-5 div.sk-parallel-item {display: flex;flex-direction: column;z-index: 1;position: relative;background-color: white;}#sk-container-id-5 div.sk-parallel-item:first-child::after {align-self: flex-end;width: 50%;}#sk-container-id-5 div.sk-parallel-item:last-child::after {align-self: flex-start;width: 50%;}#sk-container-id-5 div.sk-parallel-item:only-child::after {width: 0;}#sk-container-id-5 div.sk-dashed-wrapped {border: 1px dashed gray;margin: 0 0.4em 0.5em 0.4em;box-sizing: border-box;padding-bottom: 0.4em;background-color: white;}#sk-container-id-5 div.sk-label label {font-family: monospace;font-weight: bold;display: inline-block;line-height: 1.2em;}#sk-container-id-5 div.sk-label-container {text-align: center;}#sk-container-id-5 div.sk-container {/* jupyter's `normalize.less` sets `[hidden] { display: none; }` but bootstrap.min.css set `[hidden] { display: none !important; }` so we also need the `!important` here to be able to override the default hidden behavior on the sphinx rendered scikit-learn.org. See: https://github.com/scikit-learn/scikit-learn/issues/21755 */display: inline-block !important;position: relative;}#sk-container-id-5 div.sk-text-repr-fallback {display: none;}</style><div id=\"sk-container-id-5\" class=\"sk-top-container\"><div class=\"sk-text-repr-fallback\"><pre>SVC(C=3.347574506096919, gamma=0.012570890747323484)</pre><b>In a Jupyter environment, please rerun this cell to show the HTML representation or trust the notebook. <br />On GitHub, the HTML representation is unable to render, please try loading this page with nbviewer.org.</b></div><div class=\"sk-container\" hidden><div class=\"sk-item\"><div class=\"sk-estimator sk-toggleable\"><input class=\"sk-toggleable__control sk-hidden--visually\" id=\"sk-estimator-id-7\" type=\"checkbox\" checked><label for=\"sk-estimator-id-7\" class=\"sk-toggleable__label sk-toggleable__label-arrow\">SVC</label><div class=\"sk-toggleable__content\"><pre>SVC(C=3.347574506096919, gamma=0.012570890747323484)</pre></div></div></div></div></div>"
      ],
      "text/plain": [
       "SVC(C=3.347574506096919, gamma=0.012570890747323484)"
      ]
     },
     "execution_count": 24,
     "metadata": {},
     "output_type": "execute_result"
    }
   ],
   "source": [
    "rnd_search_cv.best_estimator_.fit(X_train_scaled, y_train)"
   ]
  },
  {
   "cell_type": "code",
   "execution_count": 25,
   "id": "557aafce",
   "metadata": {
    "execution": {
     "iopub.execute_input": "2023-06-09T19:12:40.194073Z",
     "iopub.status.busy": "2023-06-09T19:12:40.193615Z",
     "iopub.status.idle": "2023-06-09T19:12:40.209815Z",
     "shell.execute_reply": "2023-06-09T19:12:40.208049Z"
    },
    "papermill": {
     "duration": 0.035768,
     "end_time": "2023-06-09T19:12:40.213766",
     "exception": false,
     "start_time": "2023-06-09T19:12:40.177998",
     "status": "completed"
    },
    "tags": []
   },
   "outputs": [
    {
     "data": {
      "text/plain": [
       "0.7492447129909365"
      ]
     },
     "execution_count": 25,
     "metadata": {},
     "output_type": "execute_result"
    }
   ],
   "source": [
    "y_pred = rnd_search_cv.best_estimator_.predict(X_train_scaled)\n",
    "accuracy_score(y_train, y_pred)"
   ]
  },
  {
   "cell_type": "code",
   "execution_count": 26,
   "id": "a914e8ff",
   "metadata": {
    "execution": {
     "iopub.execute_input": "2023-06-09T19:12:40.244829Z",
     "iopub.status.busy": "2023-06-09T19:12:40.244095Z",
     "iopub.status.idle": "2023-06-09T19:12:40.257612Z",
     "shell.execute_reply": "2023-06-09T19:12:40.256224Z"
    },
    "papermill": {
     "duration": 0.032685,
     "end_time": "2023-06-09T19:12:40.260519",
     "exception": false,
     "start_time": "2023-06-09T19:12:40.227834",
     "status": "completed"
    },
    "tags": []
   },
   "outputs": [
    {
     "data": {
      "text/plain": [
       "0.7831325301204819"
      ]
     },
     "execution_count": 26,
     "metadata": {},
     "output_type": "execute_result"
    }
   ],
   "source": [
    "y_pred = rnd_search_cv.best_estimator_.predict(X_val_scaled)\n",
    "accuracy_score(y_val, y_pred)"
   ]
  },
  {
   "cell_type": "code",
   "execution_count": 27,
   "id": "3b2fe96a",
   "metadata": {
    "execution": {
     "iopub.execute_input": "2023-06-09T19:12:40.291903Z",
     "iopub.status.busy": "2023-06-09T19:12:40.291446Z",
     "iopub.status.idle": "2023-06-09T19:12:40.309142Z",
     "shell.execute_reply": "2023-06-09T19:12:40.307810Z"
    },
    "papermill": {
     "duration": 0.038023,
     "end_time": "2023-06-09T19:12:40.312478",
     "exception": false,
     "start_time": "2023-06-09T19:12:40.274455",
     "status": "completed"
    },
    "tags": []
   },
   "outputs": [
    {
     "data": {
      "text/plain": [
       "0.7584541062801933"
      ]
     },
     "execution_count": 27,
     "metadata": {},
     "output_type": "execute_result"
    }
   ],
   "source": [
    "y_pred_ = rnd_search_cv.best_estimator_.predict(X_scaled)\n",
    "accuracy_score(y, y_pred_)"
   ]
  },
  {
   "cell_type": "code",
   "execution_count": 28,
   "id": "d66ff917",
   "metadata": {
    "execution": {
     "iopub.execute_input": "2023-06-09T19:12:40.343292Z",
     "iopub.status.busy": "2023-06-09T19:12:40.342127Z",
     "iopub.status.idle": "2023-06-09T19:12:40.353545Z",
     "shell.execute_reply": "2023-06-09T19:12:40.352030Z"
    },
    "papermill": {
     "duration": 0.029787,
     "end_time": "2023-06-09T19:12:40.356661",
     "exception": false,
     "start_time": "2023-06-09T19:12:40.326874",
     "status": "completed"
    },
    "tags": []
   },
   "outputs": [],
   "source": [
    "y_pred__ = rnd_search_cv.best_estimator_.predict(test_scaled)"
   ]
  },
  {
   "cell_type": "code",
   "execution_count": 29,
   "id": "d8264d4d",
   "metadata": {
    "execution": {
     "iopub.execute_input": "2023-06-09T19:12:40.389888Z",
     "iopub.status.busy": "2023-06-09T19:12:40.389445Z",
     "iopub.status.idle": "2023-06-09T19:12:40.404319Z",
     "shell.execute_reply": "2023-06-09T19:12:40.402689Z"
    },
    "papermill": {
     "duration": 0.036443,
     "end_time": "2023-06-09T19:12:40.408239",
     "exception": false,
     "start_time": "2023-06-09T19:12:40.371796",
     "status": "completed"
    },
    "tags": []
   },
   "outputs": [],
   "source": [
    "submission_df = pd.DataFrame({'id': test['id'], 'target': y_pred__})\n",
    "submission_df.to_csv('submission.csv', index=False)"
   ]
  },
  {
   "cell_type": "code",
   "execution_count": null,
   "id": "555c8971",
   "metadata": {
    "papermill": {
     "duration": 0.013003,
     "end_time": "2023-06-09T19:12:40.434891",
     "exception": false,
     "start_time": "2023-06-09T19:12:40.421888",
     "status": "completed"
    },
    "tags": []
   },
   "outputs": [],
   "source": []
  }
 ],
 "metadata": {
  "kernelspec": {
   "display_name": "Python 3",
   "language": "python",
   "name": "python3"
  },
  "language_info": {
   "codemirror_mode": {
    "name": "ipython",
    "version": 3
   },
   "file_extension": ".py",
   "mimetype": "text/x-python",
   "name": "python",
   "nbconvert_exporter": "python",
   "pygments_lexer": "ipython3",
   "version": "3.10.10"
  },
  "papermill": {
   "default_parameters": {},
   "duration": 22.575658,
   "end_time": "2023-06-09T19:12:41.777490",
   "environment_variables": {},
   "exception": null,
   "input_path": "__notebook__.ipynb",
   "output_path": "__notebook__.ipynb",
   "parameters": {},
   "start_time": "2023-06-09T19:12:19.201832",
   "version": "2.4.0"
  }
 },
 "nbformat": 4,
 "nbformat_minor": 5
}
